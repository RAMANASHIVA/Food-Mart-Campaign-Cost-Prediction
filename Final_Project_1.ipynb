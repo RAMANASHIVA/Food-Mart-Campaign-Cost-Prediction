{
 "cells": [
  {
   "cell_type": "code",
   "execution_count": 19,
   "id": "52799016",
   "metadata": {},
   "outputs": [],
   "source": [
    "import numpy as np \n",
    "import pandas as pd\n",
    "\n",
    "\n",
    "import matplotlib.pyplot as plt\n",
    "import seaborn as sns\n",
    "import plotly.express as px\n",
    "import scipy.stats as stats\n",
    "\n",
    "from sklearn.model_selection import train_test_split\n",
    "from sklearn.preprocessing import LabelEncoder\n",
    "\n",
    "from IPython.display import Image\n",
    "\n",
    "\n",
    "import statsmodels.api as sma\n",
    "\n",
    "from sklearn.preprocessing import StandardScaler, PowerTransformer\n",
    "from sklearn.model_selection import train_test_split\n",
    "from sklearn.linear_model import LinearRegression\n",
    "from sklearn.ensemble import RandomForestRegressor\n",
    "from sklearn.metrics import mean_squared_error,r2_score,mean_absolute_error\n",
    "from sklearn.pipeline import make_pipeline,Pipeline\n",
    "from sklearn.model_selection import GridSearchCV\n",
    "\n",
    "from sklearn.feature_selection import RFE\n",
    "from sklearn.model_selection import KFold\n",
    "from sklearn.model_selection import LeaveOneOut\n",
    "from statsmodels.stats.outliers_influence import variance_inflation_factor\n",
    "\n",
    "import warnings\n",
    "warnings.filterwarnings('ignore')\n",
    "import matplotlib.pyplot as plt\n",
    "from sklearn.linear_model import Lasso,Ridge,ElasticNet,SGDRegressor\n",
    "import statsmodels.stats.api as ssa\n",
    "from statsmodels.stats.stattools import durbin_watson\n",
    "from statsmodels.stats.outliers_influence import variance_inflation_factor\n",
    "#from mlxtend.feature_selection import SequentialFeatureSelector\n",
    "\n",
    "import warnings\n",
    "warnings.filterwarnings('ignore')\n",
    "\n",
    "pd.options.display.max_columns = None"
   ]
  },
  {
   "cell_type": "code",
   "execution_count": 20,
   "id": "77c5276b",
   "metadata": {},
   "outputs": [
    {
     "data": {
      "text/html": [
       "<div>\n",
       "<style scoped>\n",
       "    .dataframe tbody tr th:only-of-type {\n",
       "        vertical-align: middle;\n",
       "    }\n",
       "\n",
       "    .dataframe tbody tr th {\n",
       "        vertical-align: top;\n",
       "    }\n",
       "\n",
       "    .dataframe thead th {\n",
       "        text-align: right;\n",
       "    }\n",
       "</style>\n",
       "<table border=\"1\" class=\"dataframe\">\n",
       "  <thead>\n",
       "    <tr style=\"text-align: right;\">\n",
       "      <th></th>\n",
       "      <th>food_category</th>\n",
       "      <th>food_department</th>\n",
       "      <th>food_family</th>\n",
       "      <th>store_sales(in millions)</th>\n",
       "      <th>store_cost(in millions)</th>\n",
       "      <th>unit_sales(in millions)</th>\n",
       "      <th>promotion_name</th>\n",
       "      <th>sales_country</th>\n",
       "      <th>marital_status</th>\n",
       "      <th>gender</th>\n",
       "      <th>total_children</th>\n",
       "      <th>education</th>\n",
       "      <th>member_card</th>\n",
       "      <th>occupation</th>\n",
       "      <th>houseowner</th>\n",
       "      <th>avg_cars_at home(approx)</th>\n",
       "      <th>avg. yearly_income</th>\n",
       "      <th>num_children_at_home</th>\n",
       "      <th>avg_cars_at home(approx).1</th>\n",
       "      <th>brand_name</th>\n",
       "      <th>SRP</th>\n",
       "      <th>gross_weight</th>\n",
       "      <th>net_weight</th>\n",
       "      <th>recyclable_package</th>\n",
       "      <th>low_fat</th>\n",
       "      <th>units_per_case</th>\n",
       "      <th>store_type</th>\n",
       "      <th>store_city</th>\n",
       "      <th>store_state</th>\n",
       "      <th>store_sqft</th>\n",
       "      <th>grocery_sqft</th>\n",
       "      <th>frozen_sqft</th>\n",
       "      <th>meat_sqft</th>\n",
       "      <th>coffee_bar</th>\n",
       "      <th>video_store</th>\n",
       "      <th>salad_bar</th>\n",
       "      <th>prepared_food</th>\n",
       "      <th>florist</th>\n",
       "      <th>media_type</th>\n",
       "      <th>cost</th>\n",
       "    </tr>\n",
       "  </thead>\n",
       "  <tbody>\n",
       "    <tr>\n",
       "      <th>0</th>\n",
       "      <td>Breakfast Foods</td>\n",
       "      <td>Frozen Foods</td>\n",
       "      <td>Food</td>\n",
       "      <td>7.36</td>\n",
       "      <td>2.7232</td>\n",
       "      <td>4.0</td>\n",
       "      <td>Bag Stuffers</td>\n",
       "      <td>USA</td>\n",
       "      <td>M</td>\n",
       "      <td>F</td>\n",
       "      <td>1.0</td>\n",
       "      <td>Partial High School</td>\n",
       "      <td>Normal</td>\n",
       "      <td>Skilled Manual</td>\n",
       "      <td>Y</td>\n",
       "      <td>1.0</td>\n",
       "      <td>$10K - $30K</td>\n",
       "      <td>1.0</td>\n",
       "      <td>1.0</td>\n",
       "      <td>Carrington</td>\n",
       "      <td>1.84</td>\n",
       "      <td>19.70</td>\n",
       "      <td>17.70</td>\n",
       "      <td>1.0</td>\n",
       "      <td>0.0</td>\n",
       "      <td>17.0</td>\n",
       "      <td>Deluxe Supermarket</td>\n",
       "      <td>Salem</td>\n",
       "      <td>OR</td>\n",
       "      <td>27694.0</td>\n",
       "      <td>18670.0</td>\n",
       "      <td>5415.0</td>\n",
       "      <td>3610.0</td>\n",
       "      <td>1.0</td>\n",
       "      <td>1.0</td>\n",
       "      <td>1.0</td>\n",
       "      <td>1.0</td>\n",
       "      <td>1.0</td>\n",
       "      <td>Daily Paper, Radio</td>\n",
       "      <td>126.62</td>\n",
       "    </tr>\n",
       "    <tr>\n",
       "      <th>1</th>\n",
       "      <td>Breakfast Foods</td>\n",
       "      <td>Frozen Foods</td>\n",
       "      <td>Food</td>\n",
       "      <td>5.52</td>\n",
       "      <td>2.5944</td>\n",
       "      <td>3.0</td>\n",
       "      <td>Cash Register Lottery</td>\n",
       "      <td>USA</td>\n",
       "      <td>M</td>\n",
       "      <td>M</td>\n",
       "      <td>0.0</td>\n",
       "      <td>Bachelors Degree</td>\n",
       "      <td>Silver</td>\n",
       "      <td>Professional</td>\n",
       "      <td>Y</td>\n",
       "      <td>4.0</td>\n",
       "      <td>$50K - $70K</td>\n",
       "      <td>0.0</td>\n",
       "      <td>4.0</td>\n",
       "      <td>Carrington</td>\n",
       "      <td>1.84</td>\n",
       "      <td>19.70</td>\n",
       "      <td>17.70</td>\n",
       "      <td>1.0</td>\n",
       "      <td>0.0</td>\n",
       "      <td>17.0</td>\n",
       "      <td>Deluxe Supermarket</td>\n",
       "      <td>Salem</td>\n",
       "      <td>OR</td>\n",
       "      <td>27694.0</td>\n",
       "      <td>18670.0</td>\n",
       "      <td>5415.0</td>\n",
       "      <td>3610.0</td>\n",
       "      <td>1.0</td>\n",
       "      <td>1.0</td>\n",
       "      <td>1.0</td>\n",
       "      <td>1.0</td>\n",
       "      <td>1.0</td>\n",
       "      <td>Daily Paper, Radio</td>\n",
       "      <td>59.86</td>\n",
       "    </tr>\n",
       "    <tr>\n",
       "      <th>2</th>\n",
       "      <td>Breakfast Foods</td>\n",
       "      <td>Frozen Foods</td>\n",
       "      <td>Food</td>\n",
       "      <td>3.68</td>\n",
       "      <td>1.3616</td>\n",
       "      <td>2.0</td>\n",
       "      <td>High Roller Savings</td>\n",
       "      <td>USA</td>\n",
       "      <td>S</td>\n",
       "      <td>F</td>\n",
       "      <td>4.0</td>\n",
       "      <td>Partial High School</td>\n",
       "      <td>Normal</td>\n",
       "      <td>Manual</td>\n",
       "      <td>N</td>\n",
       "      <td>1.0</td>\n",
       "      <td>$10K - $30K</td>\n",
       "      <td>0.0</td>\n",
       "      <td>1.0</td>\n",
       "      <td>Carrington</td>\n",
       "      <td>1.84</td>\n",
       "      <td>19.70</td>\n",
       "      <td>17.70</td>\n",
       "      <td>1.0</td>\n",
       "      <td>0.0</td>\n",
       "      <td>17.0</td>\n",
       "      <td>Deluxe Supermarket</td>\n",
       "      <td>Salem</td>\n",
       "      <td>OR</td>\n",
       "      <td>27694.0</td>\n",
       "      <td>18670.0</td>\n",
       "      <td>5415.0</td>\n",
       "      <td>3610.0</td>\n",
       "      <td>1.0</td>\n",
       "      <td>1.0</td>\n",
       "      <td>1.0</td>\n",
       "      <td>1.0</td>\n",
       "      <td>1.0</td>\n",
       "      <td>Daily Paper, Radio</td>\n",
       "      <td>84.16</td>\n",
       "    </tr>\n",
       "    <tr>\n",
       "      <th>3</th>\n",
       "      <td>Breakfast Foods</td>\n",
       "      <td>Frozen Foods</td>\n",
       "      <td>Food</td>\n",
       "      <td>3.68</td>\n",
       "      <td>1.1776</td>\n",
       "      <td>2.0</td>\n",
       "      <td>Cash Register Lottery</td>\n",
       "      <td>USA</td>\n",
       "      <td>M</td>\n",
       "      <td>F</td>\n",
       "      <td>2.0</td>\n",
       "      <td>High School Degree</td>\n",
       "      <td>Bronze</td>\n",
       "      <td>Manual</td>\n",
       "      <td>Y</td>\n",
       "      <td>2.0</td>\n",
       "      <td>$30K - $50K</td>\n",
       "      <td>2.0</td>\n",
       "      <td>2.0</td>\n",
       "      <td>Carrington</td>\n",
       "      <td>1.84</td>\n",
       "      <td>19.70</td>\n",
       "      <td>17.70</td>\n",
       "      <td>1.0</td>\n",
       "      <td>0.0</td>\n",
       "      <td>17.0</td>\n",
       "      <td>Deluxe Supermarket</td>\n",
       "      <td>Salem</td>\n",
       "      <td>OR</td>\n",
       "      <td>27694.0</td>\n",
       "      <td>18670.0</td>\n",
       "      <td>5415.0</td>\n",
       "      <td>3610.0</td>\n",
       "      <td>1.0</td>\n",
       "      <td>1.0</td>\n",
       "      <td>1.0</td>\n",
       "      <td>1.0</td>\n",
       "      <td>1.0</td>\n",
       "      <td>In-Store Coupon</td>\n",
       "      <td>95.78</td>\n",
       "    </tr>\n",
       "    <tr>\n",
       "      <th>4</th>\n",
       "      <td>Breakfast Foods</td>\n",
       "      <td>Frozen Foods</td>\n",
       "      <td>Food</td>\n",
       "      <td>4.08</td>\n",
       "      <td>1.4280</td>\n",
       "      <td>3.0</td>\n",
       "      <td>Double Down Sale</td>\n",
       "      <td>USA</td>\n",
       "      <td>M</td>\n",
       "      <td>M</td>\n",
       "      <td>0.0</td>\n",
       "      <td>Partial High School</td>\n",
       "      <td>Bronze</td>\n",
       "      <td>Skilled Manual</td>\n",
       "      <td>N</td>\n",
       "      <td>2.0</td>\n",
       "      <td>$30K - $50K</td>\n",
       "      <td>0.0</td>\n",
       "      <td>2.0</td>\n",
       "      <td>Golden</td>\n",
       "      <td>1.36</td>\n",
       "      <td>7.12</td>\n",
       "      <td>5.11</td>\n",
       "      <td>0.0</td>\n",
       "      <td>1.0</td>\n",
       "      <td>29.0</td>\n",
       "      <td>Deluxe Supermarket</td>\n",
       "      <td>Salem</td>\n",
       "      <td>OR</td>\n",
       "      <td>27694.0</td>\n",
       "      <td>18670.0</td>\n",
       "      <td>5415.0</td>\n",
       "      <td>3610.0</td>\n",
       "      <td>1.0</td>\n",
       "      <td>1.0</td>\n",
       "      <td>1.0</td>\n",
       "      <td>1.0</td>\n",
       "      <td>1.0</td>\n",
       "      <td>Radio</td>\n",
       "      <td>50.79</td>\n",
       "    </tr>\n",
       "  </tbody>\n",
       "</table>\n",
       "</div>"
      ],
      "text/plain": [
       "     food_category food_department food_family  store_sales(in millions)  \\\n",
       "0  Breakfast Foods    Frozen Foods        Food                      7.36   \n",
       "1  Breakfast Foods    Frozen Foods        Food                      5.52   \n",
       "2  Breakfast Foods    Frozen Foods        Food                      3.68   \n",
       "3  Breakfast Foods    Frozen Foods        Food                      3.68   \n",
       "4  Breakfast Foods    Frozen Foods        Food                      4.08   \n",
       "\n",
       "   store_cost(in millions)  unit_sales(in millions)         promotion_name  \\\n",
       "0                   2.7232                      4.0           Bag Stuffers   \n",
       "1                   2.5944                      3.0  Cash Register Lottery   \n",
       "2                   1.3616                      2.0    High Roller Savings   \n",
       "3                   1.1776                      2.0  Cash Register Lottery   \n",
       "4                   1.4280                      3.0       Double Down Sale   \n",
       "\n",
       "  sales_country marital_status gender  total_children            education  \\\n",
       "0           USA              M      F             1.0  Partial High School   \n",
       "1           USA              M      M             0.0     Bachelors Degree   \n",
       "2           USA              S      F             4.0  Partial High School   \n",
       "3           USA              M      F             2.0   High School Degree   \n",
       "4           USA              M      M             0.0  Partial High School   \n",
       "\n",
       "  member_card      occupation houseowner  avg_cars_at home(approx)  \\\n",
       "0      Normal  Skilled Manual          Y                       1.0   \n",
       "1      Silver    Professional          Y                       4.0   \n",
       "2      Normal          Manual          N                       1.0   \n",
       "3      Bronze          Manual          Y                       2.0   \n",
       "4      Bronze  Skilled Manual          N                       2.0   \n",
       "\n",
       "  avg. yearly_income  num_children_at_home  avg_cars_at home(approx).1  \\\n",
       "0        $10K - $30K                   1.0                         1.0   \n",
       "1        $50K - $70K                   0.0                         4.0   \n",
       "2        $10K - $30K                   0.0                         1.0   \n",
       "3        $30K - $50K                   2.0                         2.0   \n",
       "4        $30K - $50K                   0.0                         2.0   \n",
       "\n",
       "   brand_name   SRP  gross_weight  net_weight  recyclable_package  low_fat  \\\n",
       "0  Carrington  1.84         19.70       17.70                 1.0      0.0   \n",
       "1  Carrington  1.84         19.70       17.70                 1.0      0.0   \n",
       "2  Carrington  1.84         19.70       17.70                 1.0      0.0   \n",
       "3  Carrington  1.84         19.70       17.70                 1.0      0.0   \n",
       "4      Golden  1.36          7.12        5.11                 0.0      1.0   \n",
       "\n",
       "   units_per_case          store_type store_city store_state  store_sqft  \\\n",
       "0            17.0  Deluxe Supermarket      Salem          OR     27694.0   \n",
       "1            17.0  Deluxe Supermarket      Salem          OR     27694.0   \n",
       "2            17.0  Deluxe Supermarket      Salem          OR     27694.0   \n",
       "3            17.0  Deluxe Supermarket      Salem          OR     27694.0   \n",
       "4            29.0  Deluxe Supermarket      Salem          OR     27694.0   \n",
       "\n",
       "   grocery_sqft  frozen_sqft  meat_sqft  coffee_bar  video_store  salad_bar  \\\n",
       "0       18670.0       5415.0     3610.0         1.0          1.0        1.0   \n",
       "1       18670.0       5415.0     3610.0         1.0          1.0        1.0   \n",
       "2       18670.0       5415.0     3610.0         1.0          1.0        1.0   \n",
       "3       18670.0       5415.0     3610.0         1.0          1.0        1.0   \n",
       "4       18670.0       5415.0     3610.0         1.0          1.0        1.0   \n",
       "\n",
       "   prepared_food  florist          media_type    cost  \n",
       "0            1.0      1.0  Daily Paper, Radio  126.62  \n",
       "1            1.0      1.0  Daily Paper, Radio   59.86  \n",
       "2            1.0      1.0  Daily Paper, Radio   84.16  \n",
       "3            1.0      1.0     In-Store Coupon   95.78  \n",
       "4            1.0      1.0               Radio   50.79  "
      ]
     },
     "execution_count": 20,
     "metadata": {},
     "output_type": "execute_result"
    }
   ],
   "source": [
    "df=pd.read_csv(\"media prediction and its cost.csv\")\n",
    "df.head()"
   ]
  },
  {
   "cell_type": "code",
   "execution_count": 21,
   "id": "33779b8c",
   "metadata": {},
   "outputs": [],
   "source": [
    "num_df = df.select_dtypes(include=np.number)\n",
    "cat_df = df.select_dtypes(exclude=np.number)\n",
    "df = df.drop('avg_cars_at home(approx)',axis=1)\n",
    "num_df_to_be_power_transformed = num_df.drop(['total_children','avg_cars_at home(approx)','avg_cars_at home(approx).1','num_children_at_home','recyclable_package', 'low_fat', 'coffee_bar', 'video_store','salad_bar', 'prepared_food', 'florist'],axis=1)"
   ]
  },
  {
   "cell_type": "code",
   "execution_count": 22,
   "id": "f2b755d0",
   "metadata": {},
   "outputs": [],
   "source": [
    "#label encoding for martial status,gender and houseowner\n",
    "label_encoder = LabelEncoder()\n",
    "df['marital_status'] = label_encoder.fit_transform(df['marital_status'])\n",
    "df['gender'] = label_encoder.fit_transform(df['gender'])\n",
    "df['houseowner'] = label_encoder.fit_transform(df['houseowner'])\n",
    "\n",
    "\n",
    "\n",
    "# Ordinal encoding for 'sales_country'\n",
    "df['sales_country'] = df['sales_country'].replace('USA',2).replace('Mexico',1).replace('Canada',0)\n",
    "\n",
    "# Ordinal encoding for 'member_card'\n",
    "member_card_order = {'Golden': 1, 'Silver': 0, 'Bronze': 3, 'Normal': 2}\n",
    "df['member_card'] = df['member_card'].map(member_card_order)\n",
    "\n",
    "# Ordinal encoding for 'education'\n",
    "education_order = {'Partial High School': 4, 'Bachelors Degree': 2, 'High School Degree': 3,\n",
    "                       'Graduate Degree': 0, 'Partial College': 1}\n",
    "df['education'] = df['education'].map(education_order)\n",
    "# Ordinal encoding for 'store_type'\n",
    "store_type_order = {'Deluxe Supermarket': 3, 'Supermarket': 4, 'Gourmet Supermarket': 2,\n",
    "                        'Small Grocery': 0, 'Mid-Size Grocery': 1}\n",
    "df['store_type'] = df['store_type'].map(store_type_order)\n",
    "    \n",
    "    \n",
    "# Ordinal encoding for 'avg. yearly_income'\n",
    "income_order = {\n",
    "        '$10K - $30K': 6,\n",
    "        '$30K - $50K': 7,\n",
    "        '$50K - $70K': 5,\n",
    "        '$70K - $90K': 3,\n",
    "        '$90K - $110K': 2,\n",
    "        '$110K - $130K': 4,\n",
    "        '$130K - $150K': 1,\n",
    "        '$150K +': 0\n",
    "}\n",
    "\n",
    "df['avg. yearly_income'] = df['avg. yearly_income'].map(income_order)\n"
   ]
  },
  {
   "cell_type": "code",
   "execution_count": 23,
   "id": "2087310d",
   "metadata": {},
   "outputs": [],
   "source": [
    "multiple_values_columns = ['occupation','food_category','food_department','promotion_name','brand_name','store_city','store_state','media_type']\n",
    "\n",
    "for col in multiple_values_columns:\n",
    "        melt_with_cost = pd.melt(df,id_vars=col,value_vars='cost',value_name='cost')\n",
    "        mean_cost = np.ceil(melt_with_cost.groupby(by=col)['cost'].mean()).to_dict()\n",
    "        df[col] = df[col].map(mean_cost)"
   ]
  },
  {
   "cell_type": "code",
   "execution_count": 24,
   "id": "0ca2167e",
   "metadata": {},
   "outputs": [],
   "source": [
    "df['food_family'] = df['food_family'].replace('Food',2).replace('Non-Consumable',1).replace('Drink',0)"
   ]
  },
  {
   "cell_type": "code",
   "execution_count": 25,
   "id": "3e8bd572",
   "metadata": {},
   "outputs": [],
   "source": [
    "num_df_to_be_power_transformed = num_df_to_be_power_transformed.drop('cost',axis=1)"
   ]
  },
  {
   "cell_type": "code",
   "execution_count": 26,
   "id": "0e31776e",
   "metadata": {},
   "outputs": [],
   "source": [
    "df1 = df.copy()"
   ]
  },
  {
   "cell_type": "code",
   "execution_count": 27,
   "id": "f143fb56",
   "metadata": {},
   "outputs": [],
   "source": [
    "for i in num_df_to_be_power_transformed.columns:\n",
    "    df1[i] = df[i].apply(lambda x:np.sqrt(x))"
   ]
  },
  {
   "cell_type": "code",
   "execution_count": 28,
   "id": "4f1fa0ec",
   "metadata": {
    "scrolled": false
   },
   "outputs": [
    {
     "data": {
      "text/html": [
       "<div>\n",
       "<style scoped>\n",
       "    .dataframe tbody tr th:only-of-type {\n",
       "        vertical-align: middle;\n",
       "    }\n",
       "\n",
       "    .dataframe tbody tr th {\n",
       "        vertical-align: top;\n",
       "    }\n",
       "\n",
       "    .dataframe thead th {\n",
       "        text-align: right;\n",
       "    }\n",
       "</style>\n",
       "<table border=\"1\" class=\"dataframe\">\n",
       "  <thead>\n",
       "    <tr style=\"text-align: right;\">\n",
       "      <th></th>\n",
       "      <th>food_category</th>\n",
       "      <th>food_department</th>\n",
       "      <th>food_family</th>\n",
       "      <th>store_sales(in millions)</th>\n",
       "      <th>store_cost(in millions)</th>\n",
       "      <th>unit_sales(in millions)</th>\n",
       "      <th>promotion_name</th>\n",
       "      <th>sales_country</th>\n",
       "      <th>marital_status</th>\n",
       "      <th>gender</th>\n",
       "      <th>total_children</th>\n",
       "      <th>education</th>\n",
       "      <th>member_card</th>\n",
       "      <th>occupation</th>\n",
       "      <th>houseowner</th>\n",
       "      <th>avg. yearly_income</th>\n",
       "      <th>num_children_at_home</th>\n",
       "      <th>avg_cars_at home(approx).1</th>\n",
       "      <th>brand_name</th>\n",
       "      <th>SRP</th>\n",
       "      <th>gross_weight</th>\n",
       "      <th>net_weight</th>\n",
       "      <th>recyclable_package</th>\n",
       "      <th>low_fat</th>\n",
       "      <th>units_per_case</th>\n",
       "      <th>store_type</th>\n",
       "      <th>store_city</th>\n",
       "      <th>store_state</th>\n",
       "      <th>store_sqft</th>\n",
       "      <th>grocery_sqft</th>\n",
       "      <th>frozen_sqft</th>\n",
       "      <th>meat_sqft</th>\n",
       "      <th>coffee_bar</th>\n",
       "      <th>video_store</th>\n",
       "      <th>salad_bar</th>\n",
       "      <th>prepared_food</th>\n",
       "      <th>florist</th>\n",
       "      <th>media_type</th>\n",
       "      <th>cost</th>\n",
       "    </tr>\n",
       "  </thead>\n",
       "  <tbody>\n",
       "    <tr>\n",
       "      <th>0</th>\n",
       "      <td>100.0</td>\n",
       "      <td>100.0</td>\n",
       "      <td>2</td>\n",
       "      <td>2.712932</td>\n",
       "      <td>1.650212</td>\n",
       "      <td>2.000000</td>\n",
       "      <td>107.0</td>\n",
       "      <td>2</td>\n",
       "      <td>0</td>\n",
       "      <td>0</td>\n",
       "      <td>1.0</td>\n",
       "      <td>4</td>\n",
       "      <td>2</td>\n",
       "      <td>100.0</td>\n",
       "      <td>1</td>\n",
       "      <td>6</td>\n",
       "      <td>1.0</td>\n",
       "      <td>1.0</td>\n",
       "      <td>100.0</td>\n",
       "      <td>1.356466</td>\n",
       "      <td>4.438468</td>\n",
       "      <td>4.207137</td>\n",
       "      <td>1.0</td>\n",
       "      <td>0.0</td>\n",
       "      <td>4.123106</td>\n",
       "      <td>3</td>\n",
       "      <td>85.0</td>\n",
       "      <td>95.0</td>\n",
       "      <td>166.415144</td>\n",
       "      <td>136.638208</td>\n",
       "      <td>73.586684</td>\n",
       "      <td>60.083276</td>\n",
       "      <td>1.0</td>\n",
       "      <td>1.0</td>\n",
       "      <td>1.0</td>\n",
       "      <td>1.0</td>\n",
       "      <td>1.0</td>\n",
       "      <td>98.0</td>\n",
       "      <td>126.62</td>\n",
       "    </tr>\n",
       "    <tr>\n",
       "      <th>1</th>\n",
       "      <td>100.0</td>\n",
       "      <td>100.0</td>\n",
       "      <td>2</td>\n",
       "      <td>2.349468</td>\n",
       "      <td>1.610714</td>\n",
       "      <td>1.732051</td>\n",
       "      <td>75.0</td>\n",
       "      <td>2</td>\n",
       "      <td>0</td>\n",
       "      <td>1</td>\n",
       "      <td>0.0</td>\n",
       "      <td>2</td>\n",
       "      <td>0</td>\n",
       "      <td>99.0</td>\n",
       "      <td>1</td>\n",
       "      <td>5</td>\n",
       "      <td>0.0</td>\n",
       "      <td>4.0</td>\n",
       "      <td>100.0</td>\n",
       "      <td>1.356466</td>\n",
       "      <td>4.438468</td>\n",
       "      <td>4.207137</td>\n",
       "      <td>1.0</td>\n",
       "      <td>0.0</td>\n",
       "      <td>4.123106</td>\n",
       "      <td>3</td>\n",
       "      <td>85.0</td>\n",
       "      <td>95.0</td>\n",
       "      <td>166.415144</td>\n",
       "      <td>136.638208</td>\n",
       "      <td>73.586684</td>\n",
       "      <td>60.083276</td>\n",
       "      <td>1.0</td>\n",
       "      <td>1.0</td>\n",
       "      <td>1.0</td>\n",
       "      <td>1.0</td>\n",
       "      <td>1.0</td>\n",
       "      <td>98.0</td>\n",
       "      <td>59.86</td>\n",
       "    </tr>\n",
       "    <tr>\n",
       "      <th>2</th>\n",
       "      <td>100.0</td>\n",
       "      <td>100.0</td>\n",
       "      <td>2</td>\n",
       "      <td>1.918333</td>\n",
       "      <td>1.166876</td>\n",
       "      <td>1.414214</td>\n",
       "      <td>96.0</td>\n",
       "      <td>2</td>\n",
       "      <td>1</td>\n",
       "      <td>0</td>\n",
       "      <td>4.0</td>\n",
       "      <td>4</td>\n",
       "      <td>2</td>\n",
       "      <td>99.0</td>\n",
       "      <td>0</td>\n",
       "      <td>6</td>\n",
       "      <td>0.0</td>\n",
       "      <td>1.0</td>\n",
       "      <td>100.0</td>\n",
       "      <td>1.356466</td>\n",
       "      <td>4.438468</td>\n",
       "      <td>4.207137</td>\n",
       "      <td>1.0</td>\n",
       "      <td>0.0</td>\n",
       "      <td>4.123106</td>\n",
       "      <td>3</td>\n",
       "      <td>85.0</td>\n",
       "      <td>95.0</td>\n",
       "      <td>166.415144</td>\n",
       "      <td>136.638208</td>\n",
       "      <td>73.586684</td>\n",
       "      <td>60.083276</td>\n",
       "      <td>1.0</td>\n",
       "      <td>1.0</td>\n",
       "      <td>1.0</td>\n",
       "      <td>1.0</td>\n",
       "      <td>1.0</td>\n",
       "      <td>98.0</td>\n",
       "      <td>84.16</td>\n",
       "    </tr>\n",
       "    <tr>\n",
       "      <th>3</th>\n",
       "      <td>100.0</td>\n",
       "      <td>100.0</td>\n",
       "      <td>2</td>\n",
       "      <td>1.918333</td>\n",
       "      <td>1.085173</td>\n",
       "      <td>1.414214</td>\n",
       "      <td>75.0</td>\n",
       "      <td>2</td>\n",
       "      <td>0</td>\n",
       "      <td>0</td>\n",
       "      <td>2.0</td>\n",
       "      <td>3</td>\n",
       "      <td>3</td>\n",
       "      <td>99.0</td>\n",
       "      <td>1</td>\n",
       "      <td>7</td>\n",
       "      <td>2.0</td>\n",
       "      <td>2.0</td>\n",
       "      <td>100.0</td>\n",
       "      <td>1.356466</td>\n",
       "      <td>4.438468</td>\n",
       "      <td>4.207137</td>\n",
       "      <td>1.0</td>\n",
       "      <td>0.0</td>\n",
       "      <td>4.123106</td>\n",
       "      <td>3</td>\n",
       "      <td>85.0</td>\n",
       "      <td>95.0</td>\n",
       "      <td>166.415144</td>\n",
       "      <td>136.638208</td>\n",
       "      <td>73.586684</td>\n",
       "      <td>60.083276</td>\n",
       "      <td>1.0</td>\n",
       "      <td>1.0</td>\n",
       "      <td>1.0</td>\n",
       "      <td>1.0</td>\n",
       "      <td>1.0</td>\n",
       "      <td>100.0</td>\n",
       "      <td>95.78</td>\n",
       "    </tr>\n",
       "    <tr>\n",
       "      <th>4</th>\n",
       "      <td>100.0</td>\n",
       "      <td>100.0</td>\n",
       "      <td>2</td>\n",
       "      <td>2.019901</td>\n",
       "      <td>1.194990</td>\n",
       "      <td>1.732051</td>\n",
       "      <td>81.0</td>\n",
       "      <td>2</td>\n",
       "      <td>0</td>\n",
       "      <td>1</td>\n",
       "      <td>0.0</td>\n",
       "      <td>4</td>\n",
       "      <td>3</td>\n",
       "      <td>100.0</td>\n",
       "      <td>0</td>\n",
       "      <td>7</td>\n",
       "      <td>0.0</td>\n",
       "      <td>2.0</td>\n",
       "      <td>101.0</td>\n",
       "      <td>1.166190</td>\n",
       "      <td>2.668333</td>\n",
       "      <td>2.260531</td>\n",
       "      <td>0.0</td>\n",
       "      <td>1.0</td>\n",
       "      <td>5.385165</td>\n",
       "      <td>3</td>\n",
       "      <td>85.0</td>\n",
       "      <td>95.0</td>\n",
       "      <td>166.415144</td>\n",
       "      <td>136.638208</td>\n",
       "      <td>73.586684</td>\n",
       "      <td>60.083276</td>\n",
       "      <td>1.0</td>\n",
       "      <td>1.0</td>\n",
       "      <td>1.0</td>\n",
       "      <td>1.0</td>\n",
       "      <td>1.0</td>\n",
       "      <td>97.0</td>\n",
       "      <td>50.79</td>\n",
       "    </tr>\n",
       "  </tbody>\n",
       "</table>\n",
       "</div>"
      ],
      "text/plain": [
       "   food_category  food_department  food_family  store_sales(in millions)  \\\n",
       "0          100.0            100.0            2                  2.712932   \n",
       "1          100.0            100.0            2                  2.349468   \n",
       "2          100.0            100.0            2                  1.918333   \n",
       "3          100.0            100.0            2                  1.918333   \n",
       "4          100.0            100.0            2                  2.019901   \n",
       "\n",
       "   store_cost(in millions)  unit_sales(in millions)  promotion_name  \\\n",
       "0                 1.650212                 2.000000           107.0   \n",
       "1                 1.610714                 1.732051            75.0   \n",
       "2                 1.166876                 1.414214            96.0   \n",
       "3                 1.085173                 1.414214            75.0   \n",
       "4                 1.194990                 1.732051            81.0   \n",
       "\n",
       "   sales_country  marital_status  gender  total_children  education  \\\n",
       "0              2               0       0             1.0          4   \n",
       "1              2               0       1             0.0          2   \n",
       "2              2               1       0             4.0          4   \n",
       "3              2               0       0             2.0          3   \n",
       "4              2               0       1             0.0          4   \n",
       "\n",
       "   member_card  occupation  houseowner  avg. yearly_income  \\\n",
       "0            2       100.0           1                   6   \n",
       "1            0        99.0           1                   5   \n",
       "2            2        99.0           0                   6   \n",
       "3            3        99.0           1                   7   \n",
       "4            3       100.0           0                   7   \n",
       "\n",
       "   num_children_at_home  avg_cars_at home(approx).1  brand_name       SRP  \\\n",
       "0                   1.0                         1.0       100.0  1.356466   \n",
       "1                   0.0                         4.0       100.0  1.356466   \n",
       "2                   0.0                         1.0       100.0  1.356466   \n",
       "3                   2.0                         2.0       100.0  1.356466   \n",
       "4                   0.0                         2.0       101.0  1.166190   \n",
       "\n",
       "   gross_weight  net_weight  recyclable_package  low_fat  units_per_case  \\\n",
       "0      4.438468    4.207137                 1.0      0.0        4.123106   \n",
       "1      4.438468    4.207137                 1.0      0.0        4.123106   \n",
       "2      4.438468    4.207137                 1.0      0.0        4.123106   \n",
       "3      4.438468    4.207137                 1.0      0.0        4.123106   \n",
       "4      2.668333    2.260531                 0.0      1.0        5.385165   \n",
       "\n",
       "   store_type  store_city  store_state  store_sqft  grocery_sqft  frozen_sqft  \\\n",
       "0           3        85.0         95.0  166.415144    136.638208    73.586684   \n",
       "1           3        85.0         95.0  166.415144    136.638208    73.586684   \n",
       "2           3        85.0         95.0  166.415144    136.638208    73.586684   \n",
       "3           3        85.0         95.0  166.415144    136.638208    73.586684   \n",
       "4           3        85.0         95.0  166.415144    136.638208    73.586684   \n",
       "\n",
       "   meat_sqft  coffee_bar  video_store  salad_bar  prepared_food  florist  \\\n",
       "0  60.083276         1.0          1.0        1.0            1.0      1.0   \n",
       "1  60.083276         1.0          1.0        1.0            1.0      1.0   \n",
       "2  60.083276         1.0          1.0        1.0            1.0      1.0   \n",
       "3  60.083276         1.0          1.0        1.0            1.0      1.0   \n",
       "4  60.083276         1.0          1.0        1.0            1.0      1.0   \n",
       "\n",
       "   media_type    cost  \n",
       "0        98.0  126.62  \n",
       "1        98.0   59.86  \n",
       "2        98.0   84.16  \n",
       "3       100.0   95.78  \n",
       "4        97.0   50.79  "
      ]
     },
     "execution_count": 28,
     "metadata": {},
     "output_type": "execute_result"
    }
   ],
   "source": [
    "df1.head()"
   ]
  },
  {
   "cell_type": "code",
   "execution_count": 29,
   "id": "73389f68",
   "metadata": {},
   "outputs": [],
   "source": [
    "X1 = df1.drop(columns='cost')\n",
    "y1 = df1['cost']\n",
    "\n",
    "X_train1,X_test1,y_train1,y_test1 = train_test_split(X1,y1,test_size=.20,random_state=1)"
   ]
  },
  {
   "cell_type": "code",
   "execution_count": 30,
   "id": "45150c72",
   "metadata": {},
   "outputs": [],
   "source": [
    "import mlxtend\n",
    "from mlxtend.feature_selection import SequentialFeatureSelector"
   ]
  },
  {
   "cell_type": "markdown",
   "id": "87e72c7c",
   "metadata": {},
   "source": [
    "# SFS Forward with Best"
   ]
  },
  {
   "cell_type": "code",
   "execution_count": 31,
   "id": "74661a2e",
   "metadata": {},
   "outputs": [
    {
     "name": "stdout",
     "output_type": "stream",
     "text": [
      "24.811036808392693\n"
     ]
    }
   ],
   "source": [
    "lr = LinearRegression()\n",
    "sfs_forward = SequentialFeatureSelector(estimator = lr,\n",
    "                                       k_features='best',\n",
    "                                       forward=True,\n",
    "#                                        verbose=2,\n",
    "                                       scoring = \"neg_root_mean_squared_error\")\n",
    "\n",
    "sfs_forward.fit(X_train1, y_train1)\n",
    "rmse = abs(sfs_forward.k_score_)\n",
    "print(rmse)"
   ]
  },
  {
   "cell_type": "code",
   "execution_count": 32,
   "id": "250ecca2",
   "metadata": {},
   "outputs": [],
   "source": [
    "newx = X_train1.loc[:,sfs_forward.k_feature_names_]\n",
    "testx = X_test1.loc[:,sfs_forward.k_feature_names_]"
   ]
  },
  {
   "cell_type": "code",
   "execution_count": 33,
   "id": "fe5b2451",
   "metadata": {},
   "outputs": [],
   "source": [
    "lr = LinearRegression()\n",
    "model_sfs = lr.fit(newx,y_train1)\n",
    "pred_train = model_sfs.predict(newx)\n",
    "pred_test = model_sfs.predict(testx)"
   ]
  },
  {
   "cell_type": "code",
   "execution_count": 34,
   "id": "882decc2",
   "metadata": {},
   "outputs": [
    {
     "name": "stdout",
     "output_type": "stream",
     "text": [
      "R2 Train: 0.318661850437441\n",
      "R2 Test: 0.30805324095307385\n",
      "RMSE Train: 24.796764416370745\n",
      "RMSE Test: 24.86328291038327\n"
     ]
    }
   ],
   "source": [
    "r2_train = r2_score(y_train1,pred_train)\n",
    "r2_test = r2_score(y_test1,pred_test)\n",
    "print('R2 Train:',r2_train)\n",
    "print('R2 Test:',r2_test)\n",
    "print('RMSE Train:',np.sqrt(mean_squared_error(y_train1,pred_train)))\n",
    "print('RMSE Test:',np.sqrt(mean_squared_error(y_test1,pred_test)))"
   ]
  },
  {
   "cell_type": "markdown",
   "id": "b8997a73",
   "metadata": {},
   "source": [
    "# SFS backward with best"
   ]
  },
  {
   "cell_type": "code",
   "execution_count": 35,
   "id": "2435a070",
   "metadata": {},
   "outputs": [
    {
     "name": "stdout",
     "output_type": "stream",
     "text": [
      "24.810297087651644\n"
     ]
    }
   ],
   "source": [
    "lr = LinearRegression()\n",
    "sfs_backward = SequentialFeatureSelector(estimator = lr,\n",
    "                                       k_features='best',\n",
    "                                       forward=False,\n",
    "#                                        verbose=2,\n",
    "                                       scoring = \"neg_root_mean_squared_error\")\n",
    "\n",
    "sfs_backward.fit(X_train1, y_train1)\n",
    "\n",
    "rmse=abs(sfs_backward.k_score_)\n",
    "print(rmse)"
   ]
  },
  {
   "cell_type": "code",
   "execution_count": 36,
   "id": "4668d740",
   "metadata": {},
   "outputs": [],
   "source": [
    "newx = X_train1.loc[:,sfs_backward.k_feature_names_]\n",
    "testx = X_test1.loc[:,sfs_backward.k_feature_names_]"
   ]
  },
  {
   "cell_type": "code",
   "execution_count": 37,
   "id": "ac7f4260",
   "metadata": {},
   "outputs": [],
   "source": [
    "lr = LinearRegression()\n",
    "model_sfs = lr.fit(newx,y_train1)\n",
    "pred_train = model_sfs.predict(newx)\n",
    "pred_test = model_sfs.predict(testx)"
   ]
  },
  {
   "cell_type": "code",
   "execution_count": 38,
   "id": "c2fd8c03",
   "metadata": {},
   "outputs": [
    {
     "name": "stdout",
     "output_type": "stream",
     "text": [
      "R2 Train: 0.3186461133092565\n",
      "R2 Test: 0.3079873053683755\n",
      "RMSE Train: 24.797050784899454\n",
      "RMSE Test: 24.86446749288376\n"
     ]
    }
   ],
   "source": [
    "r2_train = r2_score(y_train1,pred_train)\n",
    "r2_test = r2_score(y_test1,pred_test)\n",
    "print('R2 Train:',r2_train)\n",
    "print('R2 Test:',r2_test)\n",
    "print('RMSE Train:',np.sqrt(mean_squared_error(y_train1,pred_train)))\n",
    "print('RMSE Test:',np.sqrt(mean_squared_error(y_test1,pred_test)))"
   ]
  },
  {
   "cell_type": "markdown",
   "id": "8b781bd5",
   "metadata": {},
   "source": [
    "# RFE"
   ]
  },
  {
   "cell_type": "code",
   "execution_count": 39,
   "id": "04fa02fb",
   "metadata": {},
   "outputs": [],
   "source": [
    "rfe = RFE(estimator=lr,\n",
    "         n_features_to_select=5)\n",
    "rfe.fit(X_train1, y_train1)\n",
    "feature_index = pd.Series(rfe.ranking_,index=X_train1.columns).sort_values(ascending=False)"
   ]
  },
  {
   "cell_type": "code",
   "execution_count": 40,
   "id": "0d56124f",
   "metadata": {},
   "outputs": [],
   "source": [
    "impfeature_rfe = feature_index[feature_index==1].index"
   ]
  },
  {
   "cell_type": "code",
   "execution_count": 42,
   "id": "abab125b",
   "metadata": {},
   "outputs": [],
   "source": [
    "newx = X_train1.loc[:,impfeature_rfe]\n",
    "testx = X_test1.loc[:,impfeature_rfe]"
   ]
  },
  {
   "cell_type": "code",
   "execution_count": 43,
   "id": "4dc0f1a9",
   "metadata": {},
   "outputs": [],
   "source": [
    "lr = LinearRegression()\n",
    "model_rfe = lr.fit(newx,y_train1)\n",
    "pred_train = model_rfe.predict(newx)\n",
    "pred_test = model_rfe.predict(testx)"
   ]
  },
  {
   "cell_type": "code",
   "execution_count": 44,
   "id": "30edba86",
   "metadata": {},
   "outputs": [
    {
     "name": "stdout",
     "output_type": "stream",
     "text": [
      "R2 Train: 0.01445609173506024\n",
      "R2 Test: 0.017547474015815134\n",
      "RMSE Train: 29.823022185357992\n",
      "RMSE Test: 29.626334277493633\n"
     ]
    }
   ],
   "source": [
    "r2_train = r2_score(y_train1,pred_train)\n",
    "r2_test = r2_score(y_test1,pred_test)\n",
    "print('R2 Train:',r2_train)\n",
    "print('R2 Test:',r2_test)\n",
    "print('RMSE Train:',np.sqrt(mean_squared_error(y_train1,pred_train)))\n",
    "print('RMSE Test:',np.sqrt(mean_squared_error(y_test1,pred_test)))"
   ]
  },
  {
   "cell_type": "markdown",
   "id": "66bb537a",
   "metadata": {},
   "source": [
    "# Decision Tree"
   ]
  },
  {
   "cell_type": "code",
   "execution_count": 47,
   "id": "70ae561b",
   "metadata": {},
   "outputs": [],
   "source": [
    "from sklearn.tree import DecisionTreeRegressor"
   ]
  },
  {
   "cell_type": "code",
   "execution_count": 48,
   "id": "f89690f2",
   "metadata": {},
   "outputs": [],
   "source": [
    "DT = DecisionTreeRegressor(random_state=1)\n",
    "model = DT.fit(X_train1,y_train1)\n",
    "pred_test = model.predict(X_test1)\n",
    "pred_train = model.predict(X_train1)"
   ]
  },
  {
   "cell_type": "code",
   "execution_count": 49,
   "id": "cca47a30",
   "metadata": {},
   "outputs": [
    {
     "name": "stdout",
     "output_type": "stream",
     "text": [
      "R2 Train: 1.0\n",
      "R2 Test: 0.9920751589157287\n",
      "RMSE Train: 2.7276602183497487e-13\n",
      "RMSE Test: 2.660831743416233\n"
     ]
    }
   ],
   "source": [
    "r2_train = r2_score(y_train1,pred_train)\n",
    "r2_test = r2_score(y_test1,pred_test)\n",
    "print('R2 Train:',r2_train)\n",
    "print('R2 Test:',r2_test)\n",
    "print('RMSE Train:',np.sqrt(mean_squared_error(y_train1,pred_train)))\n",
    "print('RMSE Test:',np.sqrt(mean_squared_error(y_test1,pred_test)))"
   ]
  },
  {
   "cell_type": "markdown",
   "id": "b7745867",
   "metadata": {},
   "source": [
    "# Decision Tree with Best Params"
   ]
  },
  {
   "cell_type": "code",
   "execution_count": 50,
   "id": "8d71f14c",
   "metadata": {},
   "outputs": [
    {
     "data": {
      "image/png": "[encoded data removed]",
      "text/plain": [
       "<Figure size 640x480 with 1 Axes>"
      ]
     },
     "metadata": {},
     "output_type": "display_data"
    }
   ],
   "source": [
    "feature1 = pd.DataFrame({'Feature':X_train1.columns,'Importance':DT.feature_importances_})\n",
    "feature1 = feature1.sort_values('Importance',ascending=False)\n",
    "sns.barplot(x='Importance',y='Feature',data=feature1)\n",
    "plt.show()"
   ]
  },
  {
   "cell_type": "code",
   "execution_count": 51,
   "id": "21ef08e2",
   "metadata": {},
   "outputs": [],
   "source": [
    "first_column = feature1.iloc[:10, 0]"
   ]
  },
  {
   "cell_type": "code",
   "execution_count": 52,
   "id": "3acc6b3a",
   "metadata": {},
   "outputs": [],
   "source": [
    "newx = X_train1.loc[:,first_column]\n",
    "testx = X_test1.loc[:,first_column]"
   ]
  },
  {
   "cell_type": "code",
   "execution_count": 53,
   "id": "d0db9c33",
   "metadata": {},
   "outputs": [],
   "source": [
    "DT = DecisionTreeRegressor(random_state=1)\n",
    "model = DT.fit(newx,y_train1)\n",
    "pred_test = model.predict(testx)\n",
    "pred_train = model.predict(newx)"
   ]
  },
  {
   "cell_type": "code",
   "execution_count": 54,
   "id": "45eee592",
   "metadata": {},
   "outputs": [
    {
     "name": "stdout",
     "output_type": "stream",
     "text": [
      "R2 Train: 0.9908359554250702\n",
      "R2 Test: 0.990914553534609\n",
      "RMSE Train: 2.875790595554155\n",
      "RMSE Test: 2.849018496431534\n"
     ]
    }
   ],
   "source": [
    "r2_train = r2_score(y_train1,pred_train)\n",
    "r2_test = r2_score(y_test1,pred_test)\n",
    "print('R2 Train:',r2_train)\n",
    "print('R2 Test:',r2_test)\n",
    "print('RMSE Train:',np.sqrt(mean_squared_error(y_train1,pred_train)))\n",
    "print('RMSE Test:',np.sqrt(mean_squared_error(y_test1,pred_test)))"
   ]
  },
  {
   "cell_type": "markdown",
   "id": "85be46a6",
   "metadata": {},
   "source": [
    "# Decision Tree with SFS best"
   ]
  },
  {
   "cell_type": "code",
   "execution_count": 55,
   "id": "e2107182",
   "metadata": {},
   "outputs": [],
   "source": [
    "newx = X_train1.loc[:,sfs_forward.k_feature_names_]\n",
    "testx = X_test1.loc[:,sfs_forward.k_feature_names_]"
   ]
  },
  {
   "cell_type": "code",
   "execution_count": 56,
   "id": "474e9999",
   "metadata": {},
   "outputs": [],
   "source": [
    "DT = DecisionTreeRegressor(random_state=1)\n",
    "model = DT.fit(newx,y_train1)\n",
    "pred_test = model.predict(testx)\n",
    "pred_train = model.predict(newx)\n"
   ]
  },
  {
   "cell_type": "code",
   "execution_count": 57,
   "id": "3530a0ea",
   "metadata": {},
   "outputs": [
    {
     "name": "stdout",
     "output_type": "stream",
     "text": [
      "R2 Train: 1.0\n",
      "R2 Test: 0.9924812262777051\n",
      "RMSE Train: 2.6601441057844663e-13\n",
      "RMSE Test: 2.5917651113710654\n"
     ]
    }
   ],
   "source": [
    "r2_train = r2_score(y_train1,pred_train)\n",
    "r2_test = r2_score(y_test1,pred_test)\n",
    "print('R2 Train:',r2_train)\n",
    "print('R2 Test:',r2_test)\n",
    "print('RMSE Train:',np.sqrt(mean_squared_error(y_train1,pred_train)))\n",
    "print('RMSE Test:',np.sqrt(mean_squared_error(y_test1,pred_test)))"
   ]
  },
  {
   "cell_type": "markdown",
   "id": "faef6ca5",
   "metadata": {},
   "source": [
    "# Decision Tree with SFS backward best"
   ]
  },
  {
   "cell_type": "code",
   "execution_count": 58,
   "id": "513e2300",
   "metadata": {},
   "outputs": [],
   "source": [
    "newx = X_train1.loc[:,sfs_backward.k_feature_names_]\n",
    "testx = X_test1.loc[:,sfs_backward.k_feature_names_]"
   ]
  },
  {
   "cell_type": "code",
   "execution_count": 59,
   "id": "86aa1719",
   "metadata": {},
   "outputs": [],
   "source": [
    "DT = DecisionTreeRegressor(random_state=1)\n",
    "model = DT.fit(newx,y_train1)\n",
    "pred_test = model.predict(testx)\n",
    "pred_train = model.predict(newx)"
   ]
  },
  {
   "cell_type": "code",
   "execution_count": 60,
   "id": "36a1c9cd",
   "metadata": {},
   "outputs": [
    {
     "name": "stdout",
     "output_type": "stream",
     "text": [
      "R2 Train: 1.0\n",
      "R2 Test: 0.9896626892688383\n",
      "RMSE Train: 2.619636499972008e-13\n",
      "RMSE Test: 3.038966533313701\n"
     ]
    }
   ],
   "source": [
    "r2_train = r2_score(y_train1,pred_train)\n",
    "r2_test = r2_score(y_test1,pred_test)\n",
    "print('R2 Train:',r2_train)\n",
    "print('R2 Test:',r2_test)\n",
    "print('RMSE Train:',np.sqrt(mean_squared_error(y_train1,pred_train)))\n",
    "print('RMSE Test:',np.sqrt(mean_squared_error(y_test1,pred_test)))"
   ]
  },
  {
   "cell_type": "markdown",
   "id": "3be8d368",
   "metadata": {},
   "source": [
    "# Decision Tree with RFE"
   ]
  },
  {
   "cell_type": "code",
   "execution_count": 61,
   "id": "37c49a7b",
   "metadata": {},
   "outputs": [],
   "source": [
    "newx = X_train1.loc[:,impfeature_rfe]\n",
    "testx = X_test1.loc[:,impfeature_rfe]"
   ]
  },
  {
   "cell_type": "code",
   "execution_count": 62,
   "id": "ebdde527",
   "metadata": {},
   "outputs": [],
   "source": [
    "DT = DecisionTreeRegressor(random_state=1)\n",
    "model = DT.fit(newx,y_train1)\n",
    "pred_test = model.predict(testx)\n",
    "pred_train = model.predict(newx)"
   ]
  },
  {
   "cell_type": "code",
   "execution_count": 63,
   "id": "8b66481c",
   "metadata": {},
   "outputs": [
    {
     "name": "stdout",
     "output_type": "stream",
     "text": [
      "R2 Train: 0.05330162587570775\n",
      "R2 Test: 0.052042527676641526\n",
      "RMSE Train: 29.229371578828456\n",
      "RMSE Test: 29.101579360910232\n"
     ]
    }
   ],
   "source": [
    "r2_train = r2_score(y_train1,pred_train)\n",
    "r2_test = r2_score(y_test1,pred_test)\n",
    "print('R2 Train:',r2_train)\n",
    "print('R2 Test:',r2_test)\n",
    "print('RMSE Train:',np.sqrt(mean_squared_error(y_train1,pred_train)))\n",
    "print('RMSE Test:',np.sqrt(mean_squared_error(y_test1,pred_test)))"
   ]
  },
  {
   "cell_type": "markdown",
   "id": "c3e04ba9",
   "metadata": {},
   "source": [
    "# Decision Tree with GridSearchCV"
   ]
  },
  {
   "cell_type": "code",
   "execution_count": 64,
   "id": "e2b295ae",
   "metadata": {},
   "outputs": [
    {
     "data": {
      "text/plain": [
       "GridSearchCV(estimator=DecisionTreeRegressor(random_state=1),\n",
       "             param_grid={'max_depth': [5, 6, 7],\n",
       "                         'min_samples_split': [2, 5, 8]},\n",
       "             scoring='accuracy')"
      ]
     },
     "execution_count": 64,
     "metadata": {},
     "output_type": "execute_result"
    }
   ],
   "source": [
    "params = {'max_depth':[5,6,7],'min_samples_split':[2,5,8]}\n",
    "dtree = DecisionTreeRegressor(random_state=1)\n",
    "dtcv = GridSearchCV(dtree,params,scoring='accuracy')\n",
    "dtcv.fit(X_train1,y_train1)"
   ]
  },
  {
   "cell_type": "code",
   "execution_count": 65,
   "id": "339e2ecc",
   "metadata": {},
   "outputs": [
    {
     "data": {
      "text/plain": [
       "{'max_depth': 5, 'min_samples_split': 2}"
      ]
     },
     "execution_count": 65,
     "metadata": {},
     "output_type": "execute_result"
    }
   ],
   "source": [
    "dtcv.best_params_"
   ]
  },
  {
   "cell_type": "code",
   "execution_count": 67,
   "id": "b2e90ec2",
   "metadata": {},
   "outputs": [],
   "source": [
    "DT = DecisionTreeRegressor(random_state=1,max_depth=5,min_samples_split=2)\n",
    "DT = DecisionTreeRegressor(random_state=1)\n",
    "model = DT.fit(X_train1,y_train1)\n",
    "pred_test = model.predict(X_test1)\n",
    "pred_train = model.predict(X_train1)"
   ]
  },
  {
   "cell_type": "code",
   "execution_count": 68,
   "id": "6b254f71",
   "metadata": {},
   "outputs": [
    {
     "name": "stdout",
     "output_type": "stream",
     "text": [
      "R2 Train: 1.0\n",
      "R2 Test: 0.9920751589157287\n",
      "RMSE Train: 2.7276602183497487e-13\n",
      "RMSE Test: 2.660831743416233\n"
     ]
    }
   ],
   "source": [
    "r2_train = r2_score(y_train1,pred_train)\n",
    "r2_test = r2_score(y_test1,pred_test)\n",
    "print('R2 Train:',r2_train)\n",
    "print('R2 Test:',r2_test)\n",
    "print('RMSE Train:',np.sqrt(mean_squared_error(y_train1,pred_train)))\n",
    "print('RMSE Test:',np.sqrt(mean_squared_error(y_test1,pred_test)))"
   ]
  }
 ],
 "metadata": {
  "kernelspec": {
   "display_name": "Python 3 (ipykernel)",
   "language": "python",
   "name": "python3"
  },
  "language_info": {
   "codemirror_mode": {
    "name": "ipython",
    "version": 3
   },
   "file_extension": ".py",
   "mimetype": "text/x-python",
   "name": "python",
   "nbconvert_exporter": "python",
   "pygments_lexer": "ipython3",
   "version": "3.9.13"
  }
 },
 "nbformat": 4,
 "nbformat_minor": 5
}
